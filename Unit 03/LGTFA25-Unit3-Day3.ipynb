{
 "cells": [
  {
   "cell_type": "markdown",
   "id": "d2c088f8-9083-4745-8cc3-d49e25cc9865",
   "metadata": {},
   "source": [
    "# LGTFA25 Unit 3 Day 3 Exercises"
   ]
  },
  {
   "cell_type": "code",
   "execution_count": 2,
   "id": "901f1398-f402-43f8-8dd9-25e3bec795b5",
   "metadata": {
    "scrolled": true
   },
   "outputs": [
    {
     "name": "stdout",
     "output_type": "stream",
     "text": [
      "SharedMemoryMpi:  World communicator of size 1\n",
      "SharedMemoryMpi:  Node  communicator of size 1\n",
      "SharedMemoryMpi: SharedMemoryAllocate 1073741824 MMAP anonymous implementation \n",
      "\n",
      "__|__|__|__|__|__|__|__|__|__|__|__|__|__|__\n",
      "__|__|__|__|__|__|__|__|__|__|__|__|__|__|__\n",
      "__|_ |  |  |  |  |  |  |  |  |  |  |  | _|__\n",
      "__|_                                    _|__\n",
      "__|_   GGGG    RRRR    III    DDDD      _|__\n",
      "__|_  G        R   R    I     D   D     _|__\n",
      "__|_  G        R   R    I     D    D    _|__\n",
      "__|_  G  GG    RRRR     I     D    D    _|__\n",
      "__|_  G   G    R  R     I     D   D     _|__\n",
      "__|_   GGGG    R   R   III    DDDD      _|__\n",
      "__|_                                    _|__\n",
      "__|__|__|__|__|__|__|__|__|__|__|__|__|__|__\n",
      "__|__|__|__|__|__|__|__|__|__|__|__|__|__|__\n",
      "  |  |  |  |  |  |  |  |  |  |  |  |  |  |  \n",
      "\n",
      "\n",
      "Copyright (C) 2015 Peter Boyle, Azusa Yamaguchi, Guido Cossu, Antonin Portelli and other authors\n",
      "\n",
      "This program is free software; you can redistribute it and/or modify\n",
      "it under the terms of the GNU General Public License as published by\n",
      "the Free Software Foundation; either version 2 of the License, or\n",
      "(at your option) any later version.\n",
      "\n",
      "This program is distributed in the hope that it will be useful,\n",
      "but WITHOUT ANY WARRANTY; without even the implied warranty of\n",
      "MERCHANTABILITY or FITNESS FOR A PARTICULAR PURPOSE.  See the\n",
      "GNU General Public License for more details.\n",
      "Current Grid git commit hash is undefined. Check makefile.\n",
      "\n",
      "Grid : Message : ================================================ \n",
      "Grid : Message : MPI is initialised and logging filters activated \n",
      "Grid : Message : ================================================ \n",
      "Grid : Message : This rank is running on host lattice01\n",
      "Grid : Message : Requested 1073741824 byte stencil comms buffers \n",
      "Grid : Message : MemoryManager::Init() setting up\n",
      "Grid : Message : MemoryManager::Init() cache pool for recent host   allocations: SMALL 8 LARGE 2 HUGE 0\n",
      "Grid : Message : MemoryManager::Init() cache pool for recent device allocations: SMALL 16 LARGE 8 Huge 0\n",
      "Grid : Message : MemoryManager::Init() cache pool for recent shared allocations: SMALL 16 LARGE 8 Huge 0\n",
      "Grid : Message : MemoryManager::Init() Unified memory space\n",
      "\n",
      "=============================================\n",
      "              Initialized GPT                \n",
      "     Copyright (C) 2020 Christoph Lehner     \n",
      "=============================================\n"
     ]
    }
   ],
   "source": [
    "import gpt as g\n",
    "import numpy as np\n",
    "import matplotlib.pyplot as plt"
   ]
  },
  {
   "cell_type": "code",
   "execution_count": 58,
   "id": "4852e8ca-4382-4421-97cb-3fc1b5cb9f3e",
   "metadata": {},
   "outputs": [
    {
     "name": "stdout",
     "output_type": "stream",
     "text": [
      "GPT :   55829.459893 s : Initializing gpt.random(test,vectorized_ranlux24_24_64) took 4.69685e-05 s\n",
      "GPT :   55839.590499 s : SU(2)-subgroup heatbath 50 has P = 0.5794221030341254\n",
      "GPT :   55850.167609 s : SU(2)-subgroup heatbath 100 has P = 0.5832406149970161\n",
      "GPT :   55860.030252 s : SU(2)-subgroup heatbath 150 has P = 0.5825011995103624\n",
      "GPT :   55872.806423 s : SU(2)-subgroup heatbath 200 has P = 0.581952624850803\n",
      "GPT :   55884.096895 s : SU(2)-subgroup heatbath 250 has P = 0.5810537868075901\n"
     ]
    }
   ],
   "source": [
    "# Do not modify anything in this cell.\n",
    "'''\n",
    "Run this cell to generate a small ensemble of 5 configurations to use in today's exercises.\n",
    "'''\n",
    "\n",
    "Ul = []\n",
    "Ls = 8\n",
    "Lt = 8\n",
    "beta = 5.9\n",
    "L = [Ls,Ls,Ls,Lt]\n",
    "grid = g.grid(L, g.single)\n",
    "grid_eo = g.grid(L, g.single, g.redblack)\n",
    "\n",
    "rng = g.random(\"test\", \"vectorized_ranlux24_24_64\") #change this?\n",
    "U = g.qcd.gauge.unit(grid)\n",
    "Nd = len(U)\n",
    "\n",
    "# red/black mask\n",
    "mask_rb = g.complex(grid_eo)\n",
    "mask_rb[:] = 1\n",
    "# full mask\n",
    "mask = g.complex(grid)\n",
    "\n",
    "# simple plaquette action\n",
    "def staple(U, mu):\n",
    "    st = g.lattice(U[0])\n",
    "    st[:] = 0\n",
    "    Nd = len(U)\n",
    "    for nu in range(Nd):\n",
    "        if mu != nu:\n",
    "            st += g.qcd.gauge.staple(U, mu, nu) / U[0].otype.Nc\n",
    "    return st\n",
    "\n",
    "g.default.push_verbose(\"su2_heat_bath\", False)\n",
    "markov = g.algorithms.markov.su2_heat_bath(rng)\n",
    "U = g.qcd.gauge.unit(grid)\n",
    "plaquette_heatbath = []\n",
    "for it in range(101):\n",
    "    plaq = g.qcd.gauge.plaquette(U)\n",
    "    plaquette_heatbath.append(plaq)\n",
    "    if it % 50 == 0 and it != 0:\n",
    "        g.message(f\"SU(2)-subgroup heatbath {it} has P = {plaq}\")\n",
    "        Uc = g.copy(U)\n",
    "        Ul.append(Uc)\n",
    "    for cb in [g.even, g.odd]:\n",
    "        mask[:] = 0\n",
    "        mask_rb.checkerboard(cb)\n",
    "        g.set_checkerboard(mask, mask_rb)\n",
    "        \n",
    "        for mu in range(Nd):\n",
    "                    st = g.eval(beta * staple(U, mu))\n",
    "                    markov(U[mu], st, mask)"
   ]
  },
  {
   "cell_type": "markdown",
   "id": "e9a28912-dd4e-43f4-89e8-670bc768862d",
   "metadata": {},
   "source": [
    "## 1. Domain wall fermions and residual mass\n",
    "In this part we will develop a method to calculate the residual mass using the axial Ward-Takahashi identity, and then show the decaying exponential behavior\n",
    "of the residual mass for increasing Ls. "
   ]
  },
  {
   "cell_type": "markdown",
   "id": "8bb831dd-3626-4d0b-adba-2bad4f2f97b3",
   "metadata": {},
   "source": [
    "### Exercise 1.1 [Analytic]: Vector current conservation\n",
    "\n",
    "The conserved five dimensional current is given by \n",
    "$$\n",
    "j_{\\mu}^a(x,s) = \\frac{1}{2}\\left(\\overline{\\psi}_{x,s}(1 + \\gamma_{\\mu}) U_{x,\\mu} \\lambda^a\\psi_{x + \\hat{\\mu},s} - \\overline{\\psi}_{x + \\hat{\\mu},s}(1-\\gamma_{\\mu})U^{\\dagger}_{x,\\mu}\\lambda^a\\psi_{x,s} \\right)\n",
    "$$\n",
    "\n",
    "with the fifth component being defined by \n",
    "$$\n",
    "    j^a_5(x,s) = \n",
    "    \\begin{cases}\n",
    "        \\overline{\\psi}_{x,s}P_R\\lambda^a\\psi_{x,s+1} - \\overline{\\psi}_{x,s+1}P_L\\lambda^a\\psi_{x,s}, & 1 \\le s < 2N \\\\\n",
    "        \\overline{\\psi}_{x,2N}P_R\\lambda^a\\psi_{x,1} - \\overline{\\psi}_{x,1}P_L\\lambda^a\\psi_{x,2N}, & s = 2N\n",
    "    \\end{cases}\n",
    "$$\n",
    "\n",
    "Show that the five dimensional current satisfies the following continuity equation\n",
    "$$\n",
    "    \\sum_{\\mu}\\Delta_{\\mu}j_{\\mu}^a = \n",
    "    \\begin{cases}\n",
    "        -j_5^a(x,1) - mj_5^a(x,2N), & s = 1 \\\\\n",
    "        -\\Delta_5 j_5^a(x,s), & 1 < s < 2N - 1 \\\\\n",
    "        j_5^a(x,2N-1) + mj^a_5(x,2N), & s = 2N\n",
    "    \\end{cases}\n",
    "$$\n",
    "\n",
    "where \n",
    "$$\n",
    "    \\Delta_{\\mu} f(x,s) = f(x,s) - f(x-\\hat{\\mu},s) $$\n",
    "    $$\\Delta_5 f(x,s) = f(x,s) - f(x,s-1).$$\n",
    "and $\\lambda^a$ is a generator for the flavor symmetry group. "
   ]
  },
  {
   "cell_type": "markdown",
   "id": "2586f71f-bb12-4ac0-9387-74a4e70763e2",
   "metadata": {},
   "source": [
    "### Background: Ward-Takahashi Identities\n",
    "Ward-Takahashi identites express the quantum analog of classical current conservation associated with a continuous symmetry, written in terms of correlation functions. Generally, if we have some transformation of fermion fields\n",
    "$$\n",
    "\\psi \\rightarrow \\psi' = \\psi + \\delta\\psi $$\n",
    "$$\\overline{\\psi} \\rightarrow \\overline{\\psi}' = \\overline{\\psi} + \\delta \\overline{\\psi}\n",
    "$$\n",
    "\n",
    "Observables then behave as \n",
    "\n",
    "$$ O(\\overline{\\psi}',\\psi') = O(\\overline{\\psi},\\psi) + \\delta O(\\overline{\\psi},\\psi)$$\n",
    "$$ S[\\overline{\\psi}',\\psi'] = S[\\overline{\\psi},\\psi] + \\delta S[\\overline{\\psi},\\psi] $$\n",
    "\n",
    "and the path integral measure transforms as\n",
    "$$d\\overline{\\psi}'d\\psi' = d\\overline{\\psi}d\\psi - \\delta M(\\overline{\\psi},\\psi)d\\overline{\\psi}d\\psi = d\\overline{\\psi}d\\psi(1-\\delta M(\\overline{\\psi},\\psi)) $$\n",
    "\n",
    "We can then write the path integral in two different ways, with the transformed fields and the original fields. If we enforce that this transformation is a symmetry of the equations of motion, we can set these path integrals equal to eachother\n",
    "\n",
    "$$\n",
    "0 = \\int d\\overline{\\psi}'d\\psi' O(\\overline{\\psi}',\\psi')e^{-S(\\overline{\\psi'},\\psi')} - \\int d\\overline{\\psi}d\\psi O(\\overline{\\psi},\\psi)e^{-S(\\overline{\\psi},\\psi)}\n",
    "$$\n",
    "$$\n",
    " 0 = \\int d\\overline{\\psi}d\\psi \\left((1-\\delta M(\\overline{\\psi},\\psi))O(\\overline{\\psi}',\\psi')e^{-S(\\overline{\\psi}',\\psi')} - O(\\overline{\\psi},\\psi)e^{-S(\\overline{\\psi},\\psi)} \\right)\n",
    "$$\n",
    "\n",
    "$$\n",
    "0 = \\int d\\overline{\\psi}d\\psi \\left[\\delta O(\\overline{\\psi},\\psi) - O(\\overline{\\psi},\\psi)(\\delta S(\\overline{\\psi},\\psi) + \\delta M(\\overline{\\psi},\\psi)) \\right]e^{-S()}\n",
    "$$\n",
    "\n",
    "We can then write this expression as the Schwinger-Dyson equations\n",
    "$$\n",
    "\\langle \\delta O(\\overline{\\psi},\\psi)\\rangle = \\langle O(\\overline{\\psi},\\psi)(\\delta S(\\overline{\\psi},\\psi) + \\delta M(\\overline{\\psi},\\psi)) \\rangle\n",
    "$$\n",
    "\n",
    "Where we can see that for a non-anomalous theory ($\\delta S = \\delta M = 0$), $\\langle \\delta O(\\overline{\\psi},\\psi)\\rangle = 0$. For example, the $U(1)_A$ flavor symmetry is anomalous, $\\delta M \\ne 0$, and we would find the term proportional to the topological charge on the right hand side of the flavor singlet axial Ward identity.\n",
    "\n",
    "Flavor non-singlet axial transformations are a non-anomalous symmetry for massless quarks, and if we follow this procedure for the non-singlet axial transformations, we find the flavor non-singlet axial Ward identity (domain wall fermions) \n",
    "\n",
    "$$\n",
    "\\Delta_{\\mu}\\left\\langle A^a_{\\mu}O(y_1,y_2,...) \\right\\rangle = 2m \\left\\langle J^a_5(x) O(y_1,y_2,...) \\right\\rangle  + 2 \\left\\langle J^a_{5q}(x) O(y_1,y_2,...) \\right\\rangle + i \\left\\langle \\delta^a_A O(y_1,y_2,...) \\right\\rangle\n",
    "$$\n",
    "\n",
    "Notice the first term on the right hand side vanishes for massless quarks, but that doesn't guarantee axial current conservation, as we have a residual chiral symmetry breaking term proportional to the 5d midpoint current. \n",
    "\n",
    "We can then write the domain wall fermion axial vector current conservation equation, \n",
    "$$\n",
    "\\Delta_{\\mu}A^a_{\\mu}(x) = 2mJ^a_5(x) + 2J^a_{5q}\n",
    "$$\n",
    "\n",
    "In the continuum limit, this identity must agree with that of the continuum, where in the massless limit the axial current is exactly conserved, $\\Delta_{\\mu}A^a_{\\mu} = 0$. Thus it must be true that the sum of the coefficients of the two terms on the right hand side must be equivalent to an effective quark mass, which goes to zero in the continuum and chiral limit, $m_{\\text{eff}}\\rightarrow 0$. Thus\n",
    "\n",
    "$$ 2mJ^a_5(x) + 2J^a_{5q} \\rightarrow 0$$ \n",
    "\n",
    "for the limits $L_s \\rightarrow 0$ and $a\\rightarrow0$. Using this condition, we can define a residual mass as an additive renormalization to the bare quark mass, \n",
    "\n",
    "$$\n",
    "m_{\\text{eff}} = m + m_{\\text{res}}\n",
    "$$"
   ]
  },
  {
   "cell_type": "markdown",
   "id": "cb9b273a-d202-4c3a-bccd-8d296f53ffca",
   "metadata": {},
   "source": [
    "### Exercise 1.2 [Analytic]: Residual mass definition\n",
    "Using the above information, write an expression for the residual mass in terms of the midpoint current $J_{5q}^a$ and the pseudoscalar density $J_5^a$. We will calculate both of these objects in the next part, so the goal is to write an equation in terms of these objects we can calculate to extract the residual mass.  "
   ]
  },
  {
   "cell_type": "markdown",
   "id": "bb9f9f2b-b942-4ac1-84fc-008e3b691d4e",
   "metadata": {},
   "source": [
    "### Exercise 1.3: Conservation equation and residual mass calculation \n",
    "follow the comment blocks in the above cell to calculate the elements of the axial current conservation equation"
   ]
  },
  {
   "cell_type": "code",
   "execution_count": 83,
   "id": "680e970f-2111-46fd-838b-3ce2f9fa1c50",
   "metadata": {},
   "outputs": [],
   "source": [
    "'''\n",
    "This function will calculate the residual mass. There are three things you need to calculate in the loop over timeslices. \n",
    "1. The divergence of the axial current\n",
    "2. The right hand side of the divergence equation given above\n",
    "3. The residual mass\n",
    "'''\n",
    "def res_mass(U,Ls):\n",
    "    grid = U[0].grid\n",
    "    mobius_params = {\n",
    "        \"mass\":0.05,\n",
    "        \"M5\":1.8,\n",
    "        \"b\":1.5,\n",
    "        \"c\":0.5,\n",
    "        \"Ls\":Ls,\n",
    "        \"boundary_phases\":[1.0,1.0,1.0,-1.0]\n",
    "    }\n",
    "    \n",
    "    qm = g.qcd.fermion.mobius(U,mobius_params)\n",
    "\n",
    "    pc = g.qcd.fermion.preconditioner\n",
    "    inv = g.algorithms.inverter\n",
    "    cg = inv.cg({\"eps\":1e-6,\"maxiter\":500}) \n",
    "    cg_e = inv.cg({\"eps\":1e-8,\"maxiter\":100})\n",
    "    slv_5d = inv.preconditioned(pc.eo2_ne(),cg) \n",
    "    slv_e = inv.preconditioned(pc.eo2_ne(),cg_e)\n",
    "\n",
    "    Q_5d = qm.bulk_propagator(slv_5d) \n",
    "    Q = qm.propagator(slv_e)\n",
    "    p4d = g.mspincolor(grid)  \n",
    "    p = g.mspincolor(grid) \n",
    "    \n",
    "    src = g.mspincolor(grid) #create a point source at the origin\n",
    "    g.create.point(src,[0,0,0,0])\n",
    "    \n",
    "    pbulk = g.eval(Q_5d*src) #solving for the 5D propagator\n",
    "    p4d @= qm.bulk_propagator_to_propagator * pbulk #converting 5d propagator into the 4d propagator\n",
    "\n",
    "    corr_5d_4d = g.slice(g.trace(p4d*g.adj(p4d)),3)\n",
    "    t = np.arange(0,len(corr),1)\n",
    "\n",
    "    '''\n",
    "    Using the 5d(bulk) propagator and the 4d projection of the bulk propagator, we can construct the objects that are needed in the axial Ward Identity\n",
    "    These objects are the midpoint current, which is calculated from the bulk propagator, the axial current, and what we are using as the operator O, the \n",
    "    pseudoscalar density. These three objects are called J5q (midpoint current), AP(axial current), and PP(pseudoscalar density). \n",
    "    '''\n",
    "    \n",
    "    #midpoint current \n",
    "    j = qm.J5q(pbulk) \n",
    "    J5q = g.slice(g.trace(j*g.adj(j)),3)\n",
    "\n",
    "    #axial current\n",
    "    AP = g.slice(\n",
    "        g.trace(qm.conserved_axial_current(pbulk,src,pbulk,src,3)*g.gamma[5]),3\n",
    "    )\n",
    "    \n",
    "    #Pseudoscalar density\n",
    "    PP = g.slice(g.trace(p4d*g.adj(p4d)),3) \n",
    "\n",
    "    res_list = [] #this will hold the residual masses\n",
    "    eff_mass = [] #this will hold the effective masses \n",
    "    Nt = grid.gdimensions[3]\n",
    "\n",
    "    '''\n",
    "    Modify the below code. There are three things you must do here\n",
    "    1. Write the divergence of the axial current as a finite difference, using the AP object defined above. \n",
    "    2. Define the mass term in the axial Ward identity using the midpoint current and pseudoscalar density\n",
    "    3. Calculate the residual mass on each timeslice. Use the axial Ward identity to solve for the residual mass. \n",
    "    '''\n",
    "    \n",
    "    for t in range(Nt):\n",
    "        dAP_t = #divergence of axial current\n",
    "        mass_term = # rhs of divergence equation\n",
    "        eps = abs(dAP_t - mass_term)/abs(dAP_t + mass_term) # find difference between rhs and lhs (should be about 1e-5 to 1e-8)\n",
    "        \n",
    "        mres = #residual mass\n",
    "        if t!=0:\n",
    "            g.message(f\"axial vector current divergence residuum at t={t}: {eps}\")\n",
    "            g.message(f\"Axial vector mass term: t={t}: {mass_term}\")\n",
    "            g.message(f\"residual mass: t={t}: {mres}\") #print the residual mass\n",
    "            res_list.append(mres.real)\n",
    "\n",
    "    return res_list\n",
    "    "
   ]
  },
  {
   "cell_type": "markdown",
   "id": "16833c29-dd53-4415-846f-813f75506ba3",
   "metadata": {},
   "source": [
    "Using the residual mass function that you completed and one of the gauge configurations generated above, calculate the residual mass for multiple values of $L_s$. The values and number of $L_s$ values is up to you, but keep in mind the larger $L_s$ is, the longer it takes to run. (I wouldn't go higher than 64 probably). Generate enough data to see a clear trend in the plot of residual mass vs $L_s$. "
   ]
  },
  {
   "cell_type": "markdown",
   "id": "d8891055-8075-4a4e-80e7-3ac545710be9",
   "metadata": {},
   "source": [
    "### Exercise 1.4: Residual mass plots\n",
    "Plot the residual masses you calculated for all of you different $L_s$ values per timeslice. To extract a value for the residual mass for a given value of $L_s$, find what looks to be a relatively constant region near the midpoint. Average over this 'plateau' region, and plot the residual mass as a function of $L_s$ on a separate plot. Comment on the behavior.\n",
    "\n",
    "NOTE: Usually the residual mass is calculated on an entire ensemble of configurations, and here we are using only one. This means we aren't taking into account statistical fluctuations, and the value we are using should not be taken seriously. This exercise is simply trying to demonstrate the relationship between the finite extent of the fifth dimension and the residual explicit chiral symmetry breaking. "
   ]
  },
  {
   "cell_type": "markdown",
   "id": "21b455fe-317d-4714-a1e1-b50d55857969",
   "metadata": {},
   "source": [
    "## 2. Chiral Condensate"
   ]
  },
  {
   "cell_type": "markdown",
   "id": "b4834906-5f36-4372-b32d-f330f3295e29",
   "metadata": {},
   "source": [
    "In the second Lecture it was mentioned that the order parameter for spontaneous symmetry breaking is the chiral condensate, $\\langle \\overline{q} q \\rangle$. In this part we will calculate this chiral condensate for multiple $Ls$ values, and find out if we can say anything about the chiral symmetry breaking exhibited by this chiral condensate. "
   ]
  },
  {
   "cell_type": "code",
   "execution_count": 52,
   "id": "3c172150-d8b8-403d-a3d0-ea5177907752",
   "metadata": {},
   "outputs": [],
   "source": [
    "#do not modify anything in this cell\n",
    "'''\n",
    "This function calculates the chiral condensate, <q_bar * q>. This quantity transforms like a mass term, and it can be used as an order parameter for \n",
    "chiral symmetry breaking. Note the Ls input - we can change the extent of the 5th dimenision.\n",
    "'''\n",
    "\n",
    "def chiral_condensate(conf, mass, Ls):\n",
    "    g.default.push_verbose(\"io\",False)\n",
    "    U = conf\n",
    "    g.default.pop_verbose()\n",
    "    grid = U[0].grid\n",
    "    \n",
    "    w = g.qcd.fermion.mobius(U, M5=1.8, mass=mass, Ls=Ls, b=1.5, c=0.5,\n",
    "                                    boundary_phases=[1,1,1,-1])\n",
    "    inv = g.algorithms.inverter\n",
    "    pc = g.qcd.fermion.preconditioner\n",
    "    g.default.set_verbose(\"cg_convergence\", False)\n",
    "    g.default.set_verbose(\"cg\", False)\n",
    "    cg = inv.cg({\"eps\": 1e-6, \"maxiter\": 1000})\n",
    "    invD = w.propagator(inv.preconditioned(pc.eo1_ne(), cg))\n",
    "    \n",
    "    src = g.mspincolor(grid)\n",
    "    g.create.point(src, [0,0,0,0])\n",
    "    dst2 = g(invD * src) #this is the expression <D^{-1}>, which is the Wick expansion for <q_bar q>>\n",
    "    \n",
    "    return g.trace(dst2[0,0,0,0]).real"
   ]
  },
  {
   "cell_type": "code",
   "execution_count": 53,
   "id": "e2010b04-2ef1-47a2-9d91-0f6d4505575d",
   "metadata": {},
   "outputs": [
    {
     "name": "stdout",
     "output_type": "stream",
     "text": [
      "GPT :   54691.655897 s : 0.05\n",
      "GPT :   54704.347389 s : 0.1\n",
      "GPT :   54714.530887 s : 0.15\n",
      "GPT :   54725.289343 s : 0.2\n",
      "GPT :   54734.626852 s : 0.05\n",
      "GPT :   54758.302564 s : 0.1\n",
      "GPT :   54777.082141 s : 0.15\n",
      "GPT :   54795.746741 s : 0.2\n"
     ]
    }
   ],
   "source": [
    "#Do not modify anything in this cell\n",
    "'''\n",
    "In this cell we vary the bare quark mass and calculate the chiral condensate for each value of the mass and Ls. \n",
    "\n",
    "NOTE: This cell takes a minute or two to run.\n",
    "'''\n",
    "def average(x):\n",
    "    return np.mean(x), np.std(x) / len(x)**0.5\n",
    "\n",
    "\n",
    "masses = [0.05, 0.1, 0.15, 0.2]\n",
    "chiral_condensate_beta_5p9_Ls8 = []\n",
    "for m in masses:\n",
    "    g.message(m)\n",
    "    chiral_condensate_beta_5p9_Ls8.append(\n",
    "        chiral_condensate(U,m,8)\n",
    "    )\n",
    "\n",
    "chiral_condensate_beta_5p9_Ls12 = []\n",
    "for m in masses:\n",
    "    g.message(m)\n",
    "    chiral_condensate_beta_5p9_Ls12.append(\n",
    "        chiral_condensate(U,m,12)\n",
    "    )\n",
    "\n",
    "chiral_condensate_beta_5p9_Ls16 = []\n",
    "for m in masses:\n",
    "    g.message(m)\n",
    "    chiral_condensate_beta_5p9_Ls16.append(\n",
    "        chiral_condensate(U,m,16)\n",
    "    )"
   ]
  },
  {
   "cell_type": "markdown",
   "id": "2470e507-1e65-4975-843d-fbbe631d7b0a",
   "metadata": {},
   "source": [
    "### Exercise 3.1: Plot the chiral condensate\n",
    "Plot the chiral condensate you calculated as a function of bare quark mass. Estimate the value of bare quark mass you would need to have a vanishing chiral condensate. \n",
    "Comment on what this value tells you about the chiral symmetry breaking exhibited by the these domain wall fermions at a given $L_s$, is the chiral symmetry breaking due to the finite extent of the fifth dimension, or is there some other mechanism breaking chiral symmetry?"
   ]
  },
  {
   "cell_type": "code",
   "execution_count": 92,
   "id": "1f160764-edf1-4769-9001-aa73fbe19b85",
   "metadata": {},
   "outputs": [
    {
     "data": {
      "text/plain": [
       "[<matplotlib.lines.Line2D at 0x7f74a977a870>]"
      ]
     },
     "execution_count": 92,
     "metadata": {},
     "output_type": "execute_result"
    },
    {
     "data": {
      "image/png": "[encoded data removed]",
      "text/plain": [
       "<Figure size 640x480 with 1 Axes>"
      ]
     },
     "metadata": {},
     "output_type": "display_data"
    }
   ],
   "source": [
    "#modify this cell\n",
    "fig1, ax1 = plt.subplots()\n",
    "ax1.set_xlabel(\"bare quark mass\")\n",
    "ax1.set_ylabel(r\"$\\langle \\overline{\\psi}\\psi \\rangle$\")\n",
    "ax1.set_xlim(0,0.25)\n",
    "ax1.set_ylim(0,0.25)\n",
    "x = np.arange(0,0.2,0.01)\n",
    "\n",
    "#this will draw a line to help with the extrapolation\n",
    "ax1.plot(x, [chiral_condensate_beta_5p9_Ls12[0][0]\n",
    "+ (chiral_condensate_beta_5p9_Ls12[2][0]\n",
    "- chiral_condensate_beta_5p9_Ls12[0][0])*(xx-0.05)/0.1 for xx in x\n",
    "], \"g--\")\n",
    "\n",
    "#plot chiral condensate here"
   ]
  },
  {
   "cell_type": "code",
   "execution_count": null,
   "id": "0890c5a0-e46c-4cf9-850d-457fab875c13",
   "metadata": {},
   "outputs": [],
   "source": []
  }
 ],
 "metadata": {
  "kernelspec": {
   "display_name": "Python 3 (pkgs-cu)",
   "language": "python",
   "name": "python3"
  },
  "language_info": {
   "codemirror_mode": {
    "name": "ipython",
    "version": 3
   },
   "file_extension": ".py",
   "mimetype": "text/x-python",
   "name": "python",
   "nbconvert_exporter": "python",
   "pygments_lexer": "ipython3",
   "version": "3.12.11"
  }
 },
 "nbformat": 4,
 "nbformat_minor": 5
}
