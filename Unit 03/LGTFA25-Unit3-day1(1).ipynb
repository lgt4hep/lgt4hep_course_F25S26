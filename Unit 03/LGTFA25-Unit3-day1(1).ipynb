{
 "cells": [
  {
   "cell_type": "markdown",
   "id": "06635045-cbe3-48b9-a6b9-391d800fcb19",
   "metadata": {},
   "source": [
    "# LGT FA25 Unit 3 Day 1 Exercises"
   ]
  },
  {
   "cell_type": "markdown",
   "id": "39c2b06c-cfe1-469d-b48e-ab934ba75b62",
   "metadata": {},
   "source": [
    "The goal of today's exercises is to get familiar with the Wilson Dirac operator and how correlation functions are calculated using fermionic observables in lattice QCD. The first part of today's exercise is about implementing the Wilson Dirac operator, inverting it, and then calculating an effective mass for a two point function calculated with the quark propagator you created. The second part is about finding the critical mass of the pion with an improved version of the Wilson Dirac operator, called the Wilson clover operator, and finding the bare quark mass that allows the pions to be massless, indicating the chiral limit of the fermions we implemented. \n",
    "\n",
    "Each cell in this notebook will tell you if it needs to be edited or not - some cells will simply need to be run, others will need a few lines of code to be written to work properly. This will be indicated with comments at the top of the cell. These exercises rely heavily on Grid Python Toolkit (GPT), so whenever the lines of code you need to write require some built in GPT function, I will indicate the proper syntax and use. "
   ]
  },
  {
   "cell_type": "markdown",
   "id": "cf7fb88e-a56b-4514-9ba8-385826ab5da6",
   "metadata": {},
   "source": [
    "## Exercise 1.1: Naive quark propagator [Analytic]\n",
    "\n",
    "Using the discrete Fourier transform, show\n",
    "$$\n",
    "D(p;q)_{ij} = \\frac{1}{|\\Lambda|}\\sum_{n,m\\in\\Lambda}e^{-ip\\cdot na}D_{ij}(n;m)e^{iq\\cdot na}\n",
    "$$\n",
    "\n",
    "reduces to \n",
    "\n",
    "$$\n",
    "\\tilde{D}(p) = mI+ \\frac{i}{a}\\sum_{\\mu=1}^{4}\\gamma_{\\mu}\\sin(p_{\\mu}a)\n",
    "$$\n",
    "\n",
    "Using the explicit form of the position space Dirac operator\n",
    "\n",
    "$$\n",
    "    D(n;m)_{\\alpha,a;\\beta,b} = \\sum_{\\mu = 1}^4 (\\gamma_{\\mu})_{\\alpha\\beta}\\frac{U_{\\mu}(n)_{ab}\\delta_{n+\\hat{\\mu},m} - U^{\\dagger}_{\\mu}(n - \\hat{\\mu})_{ab}\\delta_{n-\\hat{\\mu},m}}{2a} + m\\delta_{\\alpha\\beta}\\delta_{ab}\\delta_{n,m}.\n",
    "$$"
   ]
  },
  {
   "cell_type": "markdown",
   "id": "192139e1-9db6-4593-9232-08a96961b10b",
   "metadata": {},
   "source": [
    "## Exercise 1.2: Wilson quark propagator [Analytic]\n",
    "\n",
    "Repeat exercise 1.1, but include the Wilson term in the position space Dirac operator, transform to momentum space, and invert it to find the Wilson Dirac quark propagator. Comment on the poles of this quark propagator, specifically what happens to the poles corresponding to the doublers? \n",
    "\n",
    "The Wilson Dirac operator in position space is given by \n",
    "\n",
    "$$\n",
    "D_W(n;m)_{\\alpha,a;\\beta,b} = D_{\\text{naive}}(n;m)_{{\\alpha,a;\\beta,b}}-a\\sum_{\\mu=1}^4\\frac{U_{\\mu}(n)_{ab}\\delta_{n+\\hat{\\mu},m} - 2\\delta_{ab}\\delta_{n,m} + U_{-\\mu}(n)_{ab}\\delta_{n-\\hat{\\mu},m}}{2a^2}\n",
    "$$\n",
    "\n",
    "show that the momentum space operator becomes \n",
    "\n",
    "$$\n",
    "\\tilde{D}(p) = mI + \\frac{1}{a}\\sum_{\\mu}\\gamma_{\\mu}\\text{sin}(p_{\\mu}a) + I\\frac{1}{a}\\sum_{\\mu}(1-\\text{cos}(p_{\\mu}a))\n",
    "$$\n",
    "\n",
    "and then use the convenient inversion identity:\n",
    "$$\n",
    "    \\left(aI + i\\sum_{\\mu=1}^4\\gamma_{\\mu}b_{\\mu}\\right)^{-1} = \\frac{aI - i\\sum_{\\mu=1}^4\\gamma_{\\mu}b_{\\mu}}{a^2 + \\sum_{\\mu=1}^4b^2_{\\mu}}\n",
    "$$\n",
    "\n",
    "to find the momentum space quark propagator. "
   ]
  },
  {
   "cell_type": "markdown",
   "id": "325cf623-b047-4746-b955-76c7a80adb79",
   "metadata": {},
   "source": [
    "## 2: Pion critical mass"
   ]
  },
  {
   "cell_type": "markdown",
   "id": "3e1a5ccc-4467-4937-b013-a4da784c5c8a",
   "metadata": {},
   "source": [
    "We are going to use GPT to define the Wilson Dirac operator. Note the negative mass input into the definition, this is a bare quark mass, and the goal of this exercise is to see what values of the bare quark mass correspond to massless Wilson fermions corresponding to massless pions.  \n",
    "\n",
    "The below cell defines this Wilson operator. The function used is called wilson_clover, which corresponds to a cloverleaf improved version, but since we set csw_5 and csw_t to zero, this reduces to the Wilson operator we covered in class. Note the boundary phases, the temporal direction is antiperiodic in time. \n",
    "\n",
    "After the operator is defined, we set up and execute the inversion of this operator using the conjugate gradient algorithm, and a preconditioned operator. Preconditioning effectively makes the inversions easier by reducing the condition number of the operator - we will talk about this a bit more in the third lecture. \n",
    "\n",
    "The inverted Dirac operator, or quark propagator, is stored in dst. We will use this dst variable as the $D^{-1}(n;m)$ object we saw in class to construct correlation functions. \n",
    "\n",
    "On the class github page, there is a single configuration with $N = 8$, $N_t = 32$, and $\\beta = 5.5$ which we will use for this exercise. it is called 8c32_b55_su3.200, and the code to load it in is written below. "
   ]
  },
  {
   "cell_type": "code",
   "execution_count": 5,
   "id": "1760020e-32a1-4199-9087-9a417b3f7e0c",
   "metadata": {
    "scrolled": true
   },
   "outputs": [
    {
     "name": "stdout",
     "output_type": "stream",
     "text": [
      "SharedMemoryMpi:  World communicator of size 1\n",
      "SharedMemoryMpi:  Node  communicator of size 1\n",
      "SharedMemoryMpi: SharedMemoryAllocate 1073741824 MMAP anonymous implementation \n",
      "\n",
      "__|__|__|__|__|__|__|__|__|__|__|__|__|__|__\n",
      "__|__|__|__|__|__|__|__|__|__|__|__|__|__|__\n",
      "__|_ |  |  |  |  |  |  |  |  |  |  |  | _|__\n",
      "__|_                                    _|__\n",
      "__|_   GGGG    RRRR    III    DDDD      _|__\n",
      "__|_  G        R   R    I     D   D     _|__\n",
      "__|_  G        R   R    I     D    D    _|__\n",
      "__|_  G  GG    RRRR     I     D    D    _|__\n",
      "__|_  G   G    R  R     I     D   D     _|__\n",
      "__|_   GGGG    R   R   III    DDDD      _|__\n",
      "__|_                                    _|__\n",
      "__|__|__|__|__|__|__|__|__|__|__|__|__|__|__\n",
      "__|__|__|__|__|__|__|__|__|__|__|__|__|__|__\n",
      "  |  |  |  |  |  |  |  |  |  |  |  |  |  |  \n",
      "\n",
      "\n",
      "Copyright (C) 2015 Peter Boyle, Azusa Yamaguchi, Guido Cossu, Antonin Portelli and other authors\n",
      "\n",
      "This program is free software; you can redistribute it and/or modify\n",
      "it under the terms of the GNU General Public License as published by\n",
      "the Free Software Foundation; either version 2 of the License, or\n",
      "(at your option) any later version.\n",
      "\n",
      "This program is distributed in the hope that it will be useful,\n",
      "but WITHOUT ANY WARRANTY; without even the implied warranty of\n",
      "MERCHANTABILITY or FITNESS FOR A PARTICULAR PURPOSE.  See the\n",
      "GNU General Public License for more details.\n",
      "Current Grid git commit hash is undefined. Check makefile.\n",
      "\n",
      "Grid : Message : ================================================ \n",
      "Grid : Message : MPI is initialised and logging filters activated \n",
      "Grid : Message : ================================================ \n",
      "Grid : Message : This rank is running on host lattice01\n",
      "Grid : Message : Requested 1073741824 byte stencil comms buffers \n",
      "Grid : Message : MemoryManager::Init() setting up\n",
      "Grid : Message : MemoryManager::Init() cache pool for recent host   allocations: SMALL 8 LARGE 2 HUGE 0\n",
      "Grid : Message : MemoryManager::Init() cache pool for recent device allocations: SMALL 16 LARGE 8 Huge 0\n",
      "Grid : Message : MemoryManager::Init() cache pool for recent shared allocations: SMALL 16 LARGE 8 Huge 0\n",
      "Grid : Message : MemoryManager::Init() Unified memory space\n",
      "\n",
      "=============================================\n",
      "              Initialized GPT                \n",
      "     Copyright (C) 2020 Christoph Lehner     \n",
      "=============================================\n"
     ]
    }
   ],
   "source": [
    "#this will not work if Docker is not configured properly\n",
    "import gpt as g\n",
    "import numpy as np\n",
    "import matplotlib.pyplot as plt"
   ]
  },
  {
   "cell_type": "markdown",
   "id": "629a379c-190a-422c-bc07-a5bf92c8282f",
   "metadata": {},
   "source": [
    "Run the below code to generate a small configuration that we will use for our exercise today. This uses the su2 subgroup heatbath algorithm with $\\beta=5.5$ and 100 thermalization steps. "
   ]
  },
  {
   "cell_type": "code",
   "execution_count": 6,
   "id": "0865da08-5152-4e2d-a555-44984f2bf043",
   "metadata": {},
   "outputs": [
    {
     "name": "stdout",
     "output_type": "stream",
     "text": [
      "GPT :       5.730875 s : Initializing gpt.random(fkbrfr,vectorized_ranlux24_24_64) took 3.76701e-05 s\n",
      "GPT :      65.584452 s : SU(2)-subgroup heatbath 100 has P = 0.5000904401143392\n"
     ]
    }
   ],
   "source": [
    "# Do not modify anything in this cell.\n",
    "Ls = 8\n",
    "Lt = 32\n",
    "beta = 5.5\n",
    "L = [Ls,Ls,Ls,Lt]\n",
    "grid = g.grid(L, g.single)\n",
    "grid_eo = g.grid(L, g.single, g.redblack)\n",
    "\n",
    "rng = g.random(\"fkbrfr\", \"vectorized_ranlux24_24_64\") #change this?\n",
    "U = g.qcd.gauge.unit(grid)\n",
    "Nd = len(U)\n",
    "\n",
    "# red/black mask\n",
    "mask_rb = g.complex(grid_eo)\n",
    "mask_rb[:] = 1\n",
    "# full mask\n",
    "mask = g.complex(grid)\n",
    "\n",
    "# simple plaquette action\n",
    "def staple(U, mu):\n",
    "    st = g.lattice(U[0])\n",
    "    st[:] = 0\n",
    "    Nd = len(U)\n",
    "    for nu in range(Nd):\n",
    "        if mu != nu:\n",
    "            st += g.qcd.gauge.staple(U, mu, nu) / U[0].otype.Nc\n",
    "    return st\n",
    "\n",
    "g.default.push_verbose(\"su2_heat_bath\", False)\n",
    "markov = g.algorithms.markov.su2_heat_bath(rng)\n",
    "U = g.qcd.gauge.unit(grid)\n",
    "plaquette_heatbath = []\n",
    "for it in range(101):\n",
    "    plaq = g.qcd.gauge.plaquette(U)\n",
    "    plaquette_heatbath.append(plaq)\n",
    "    if it % 100 == 0 and it != 0:\n",
    "        g.message(f\"SU(2)-subgroup heatbath {it} has P = {plaq}\")\n",
    "        Uc = g.copy(U)\n",
    "    for cb in [g.even, g.odd]:\n",
    "        mask[:] = 0\n",
    "        mask_rb.checkerboard(cb)\n",
    "        g.set_checkerboard(mask, mask_rb)\n",
    "        \n",
    "        for mu in range(Nd):\n",
    "                    st = g.eval(beta * staple(U, mu))\n",
    "                    markov(U[mu], st, mask)"
   ]
  },
  {
   "cell_type": "code",
   "execution_count": 8,
   "id": "1d9e4b27-dd4a-4598-b6e7-cd77cfbf67fa",
   "metadata": {},
   "outputs": [
    {
     "name": "stdout",
     "output_type": "stream",
     "text": [
      "GPT :     174.281252 s : cg: converged in 33 iterations\n",
      "GPT :     174.349961 s : cg: converged in 32 iterations\n",
      "GPT :     174.421271 s : cg: converged in 32 iterations\n",
      "GPT :     174.489628 s : cg: converged in 32 iterations\n",
      "GPT :     174.554912 s : cg: converged in 32 iterations\n",
      "GPT :     174.617480 s : cg: converged in 32 iterations\n",
      "GPT :     174.676789 s : cg: converged in 32 iterations\n",
      "GPT :     174.745317 s : cg: converged in 33 iterations\n",
      "GPT :     174.806153 s : cg: converged in 32 iterations\n",
      "GPT :     174.865968 s : cg: converged in 33 iterations\n",
      "GPT :     174.934056 s : cg: converged in 32 iterations\n",
      "GPT :     174.995773 s : cg: converged in 32 iterations\n"
     ]
    }
   ],
   "source": [
    "## Do not modify anything in this cell\n",
    "w = g.qcd.fermion.wilson_clover(U, mass=-0.5, csw_r=0.0, csw_t=0.0, nu=1.0, xi_0=1.0,\n",
    "                               isAnisotropic=False,\n",
    "                               boundary_phases=[1,1,1,-1])\n",
    "\n",
    "src = g.mspincolor(grid)\n",
    "g.create.point(src, [0, 0, 0, 0])\n",
    "\n",
    "#set up the conjugate gradient algorithm\n",
    "inv = g.algorithms.inverter\n",
    "pc = g.qcd.fermion.preconditioner\n",
    "g.default.set_verbose(\"cg_convergence\",False)\n",
    "cg = inv.cg({'eps': 1e-6, \"maxiter\":1000})\n",
    "invD = w.propagator(inv.preconditioned(pc.eo1_ne(),cg))\n",
    "\n",
    "dst2 = g(invD * src)"
   ]
  },
  {
   "cell_type": "markdown",
   "id": "e00abd71-d5f3-4e22-9835-c4a6a969d5a7",
   "metadata": {},
   "source": [
    "## Exercise 2.1: Gamma5 Hermiticity of the Wilson Dirac operator\n",
    "\n",
    "Show the Wilson Dirac operator defined by the 'w' variable is gamma 5 Hermitian. \n",
    "\n",
    "Gamma 5 Hermiticity is an important property of the Wilson Dirac operator, where the operator satisfies \n",
    "$$\n",
    "\\gamma_5 D_W^{\\dagger} \\gamma_5 = D_W\n",
    "$$\n",
    "\n",
    "In this exercise we can use random fermion fields, defined as 'a' and 'b' to test this property within an inner product. "
   ]
  },
  {
   "cell_type": "code",
   "execution_count": 9,
   "id": "0b0f7266-4679-4656-8656-a9678655fb5d",
   "metadata": {},
   "outputs": [
    {
     "name": "stdout",
     "output_type": "stream",
     "text": [
      "GPT :     328.476220 s : Initializing gpt.random(test_seed,vectorized_ranlux24_389_64) took 0.000205994 s\n",
      "(-401.8448075083229+4.435135562630421e-05j)\n",
      "(2775.208947740205+3564.0769873228687j)\n",
      "(2775.2087898173445+3564.07702586428j)\n"
     ]
    }
   ],
   "source": [
    "#to test gamma-5 Hermiticity, we define two random spincolor fields. These have the spin and color structure of fermion fields, using the grid defined from\n",
    "#the gauge field as the base object. This ensures we will have no issues with lattice size or precision. \n",
    "rng = g.random(\"test_seed\")\n",
    "a, b = rng.cnormal([g.vspincolor(grid),g.vspincolor(grid)])\n",
    "\n",
    "\n",
    "'''\n",
    "Necessary GPT functions\n",
    "g.inner_product(obj_1, obj_2) - calculates the inner product of the two objects. Returns a scalar.\n",
    "g.gamma[5] - GPT implementation of the gamma 5 matrix. \n",
    "\n",
    "NOTE: GPT multiplication between the gamma matrices and other objects has been defined with the standard '*' operator. \n",
    "      you DO NOT need to use the '@' operator. \n",
    "\n",
    "NOTE: the fermion operator object we defined with 'w' needs a fermion field to act on, whenever you use it make sure you are using it as (w * c) where c is some spincolor field\n",
    "'''\n",
    "\n",
    "# For example, I want to show the norm of the Dirac operator is real, and I do this with the line\n",
    "norm = g.inner_product(a,g.gamma[5] * w * a)\n",
    "print(norm)\n",
    "\n",
    "#to show that the Dirac operator is gamma 5 Hermitian, you will need to write inner producs of the same form, involving both fermion fields.\n",
    "#the easiest way to do this is to write two inner products and compare them. \n",
    "ip_1 = ##enter your code here\n",
    "ip_2 = ##enter your code here"
   ]
  },
  {
   "cell_type": "markdown",
   "id": "93bbe0c9-d953-4695-b74e-db2e7f83b34b",
   "metadata": {},
   "source": [
    "## Exercise 2.1: Pion effective mass and correlation function\n",
    "\n",
    "In the function below, implement the correlation function expression and the effective mass expression so that we can calculate the pion mass for varying quark masses. \n",
    "\n",
    "To construct a pion correlator we must define a pion interpolating operator:\n",
    "$$\n",
    "\\hat{O}_{\\pi}(t) = i\\sum_{\\vec{x}}\\overline{u}(\\vec{x},t)\\gamma_5d(\\vec{x},t)\n",
    "$$\n",
    "and finding the conjugate of this operator, \n",
    "$$\n",
    "\\hat{O}^{\\dagger}_{\\pi}(t) = i\\sum_{\\vec{x}}\\overline{d}(\\vec{x},t)\\gamma_5u(\\vec{x},t)\n",
    "$$\n",
    "\n",
    "Then the correlation function is defined as \n",
    "$$\n",
    "C(t) = \\langle\\hat{O}_{\\pi}(t)\\hat{O}_{\\pi}^{\\dagger}(0)\\rangle = \\sum_{\\vec{x}\\vec{y}}\\langle \\text{Tr}[D^{-1}(\\vec{x},t;\\vec{y},0) \\gamma_5 D^{-1}(\\vec{y},0;\\vec{x},t) \\gamma_5\\rangle\n",
    "$$\n",
    "\n",
    "And we will use the natural log definition of the effective mass, using two correlator data points, \n",
    "$$\n",
    "m_{eff}(t) = \\text{ln}\\left(\\frac{C_{\\pi}(t)}{C_{\\pi}(t+1)}\\right)\n",
    "$$"
   ]
  },
  {
   "cell_type": "code",
   "execution_count": 10,
   "id": "b35bb7a3-c3a7-4c05-9f55-f78970b6fafc",
   "metadata": {
    "scrolled": true
   },
   "outputs": [
    {
     "name": "stdout",
     "output_type": "stream",
     "text": [
      "GPT :     356.265900 s : cg: converged in 38 iterations\n",
      "GPT :     356.338615 s : cg: converged in 37 iterations\n",
      "GPT :     356.406318 s : cg: converged in 37 iterations\n",
      "GPT :     356.476487 s : cg: converged in 37 iterations\n",
      "GPT :     356.546388 s : cg: converged in 38 iterations\n",
      "GPT :     356.615511 s : cg: converged in 37 iterations\n",
      "GPT :     356.692168 s : cg: converged in 37 iterations\n",
      "GPT :     356.763275 s : cg: converged in 38 iterations\n",
      "GPT :     356.836655 s : cg: converged in 37 iterations\n",
      "GPT :     356.906670 s : cg: converged in 38 iterations\n",
      "GPT :     356.975919 s : cg: converged in 37 iterations\n",
      "GPT :     357.048930 s : cg: converged in 37 iterations\n",
      "GPT :     357.411455 s : cg: converged in 45 iterations\n",
      "GPT :     357.496480 s : cg: converged in 43 iterations\n",
      "GPT :     357.585327 s : cg: converged in 44 iterations\n",
      "GPT :     357.668330 s : cg: converged in 44 iterations\n",
      "GPT :     357.748640 s : cg: converged in 44 iterations\n",
      "GPT :     357.833625 s : cg: converged in 44 iterations\n",
      "GPT :     357.918823 s : cg: converged in 44 iterations\n",
      "GPT :     358.007032 s : cg: converged in 45 iterations\n",
      "GPT :     358.094795 s : cg: converged in 43 iterations\n",
      "GPT :     358.181845 s : cg: converged in 45 iterations\n",
      "GPT :     358.262985 s : cg: converged in 44 iterations\n",
      "GPT :     358.348341 s : cg: converged in 44 iterations\n",
      "GPT :     358.698789 s : cg: converged in 55 iterations\n",
      "GPT :     358.814907 s : cg: converged in 54 iterations\n",
      "GPT :     358.923788 s : cg: converged in 54 iterations\n",
      "GPT :     359.027358 s : cg: converged in 55 iterations\n",
      "GPT :     359.127410 s : cg: converged in 54 iterations\n",
      "GPT :     359.230272 s : cg: converged in 54 iterations\n",
      "GPT :     359.329516 s : cg: converged in 54 iterations\n",
      "GPT :     359.439367 s : cg: converged in 55 iterations\n",
      "GPT :     359.540164 s : cg: converged in 53 iterations\n",
      "GPT :     359.638934 s : cg: converged in 55 iterations\n",
      "GPT :     359.739457 s : cg: converged in 54 iterations\n",
      "GPT :     359.835520 s : cg: converged in 54 iterations\n",
      "GPT :     360.200506 s : cg: converged in 72 iterations\n",
      "GPT :     360.332918 s : cg: converged in 70 iterations\n",
      "GPT :     360.463228 s : cg: converged in 70 iterations\n",
      "GPT :     360.595796 s : cg: converged in 71 iterations\n",
      "GPT :     360.725737 s : cg: converged in 71 iterations\n",
      "GPT :     360.855485 s : cg: converged in 70 iterations\n",
      "GPT :     360.985422 s : cg: converged in 70 iterations\n",
      "GPT :     361.116787 s : cg: converged in 71 iterations\n",
      "GPT :     361.245189 s : cg: converged in 69 iterations\n",
      "GPT :     361.374805 s : cg: converged in 71 iterations\n",
      "GPT :     361.504869 s : cg: converged in 69 iterations\n",
      "GPT :     361.641733 s : cg: converged in 70 iterations\n",
      "GPT :     362.088109 s : cg: converged in 102 iterations\n",
      "GPT :     362.289099 s : cg: converged in 98 iterations\n",
      "GPT :     362.470383 s : cg: converged in 100 iterations\n",
      "GPT :     362.648667 s : cg: converged in 100 iterations\n",
      "GPT :     362.830598 s : cg: converged in 101 iterations\n",
      "GPT :     363.008414 s : cg: converged in 100 iterations\n",
      "GPT :     363.182826 s : cg: converged in 98 iterations\n",
      "GPT :     363.361315 s : cg: converged in 100 iterations\n",
      "GPT :     363.550808 s : cg: converged in 96 iterations\n",
      "GPT :     363.744376 s : cg: converged in 101 iterations\n",
      "GPT :     363.927832 s : cg: converged in 97 iterations\n",
      "GPT :     364.118713 s : cg: converged in 98 iterations\n",
      "GPT :     364.688211 s : cg: converged in 165 iterations\n",
      "GPT :     365.001923 s : cg: converged in 162 iterations\n",
      "GPT :     365.293279 s : cg: converged in 161 iterations\n",
      "GPT :     365.595316 s : cg: converged in 160 iterations\n",
      "GPT :     365.894398 s : cg: converged in 166 iterations\n",
      "GPT :     366.197220 s : cg: converged in 162 iterations\n",
      "GPT :     366.511115 s : cg: converged in 161 iterations\n",
      "GPT :     366.813964 s : cg: converged in 164 iterations\n",
      "GPT :     367.106270 s : cg: converged in 156 iterations\n",
      "GPT :     367.412945 s : cg: converged in 166 iterations\n",
      "GPT :     367.704008 s : cg: converged in 159 iterations\n",
      "GPT :     367.993092 s : cg: converged in 159 iterations\n",
      "GPT :     368.867943 s : cg: converged in 340 iterations\n",
      "GPT :     369.488606 s : cg: converged in 334 iterations\n",
      "GPT :     370.106800 s : cg: converged in 328 iterations\n",
      "GPT :     370.760923 s : cg: converged in 334 iterations\n",
      "GPT :     371.421333 s : cg: converged in 341 iterations\n",
      "GPT :     372.038587 s : cg: converged in 335 iterations\n",
      "GPT :     372.679799 s : cg: converged in 339 iterations\n",
      "GPT :     373.303949 s : cg: converged in 339 iterations\n",
      "GPT :     373.907211 s : cg: converged in 330 iterations\n",
      "GPT :     374.564920 s : cg: converged in 351 iterations\n",
      "GPT :     375.205988 s : cg: converged in 337 iterations\n",
      "GPT :     375.828844 s : cg: converged in 332 iterations\n"
     ]
    }
   ],
   "source": [
    "# Modify the function below to calculate the correlator and the effective mass. \n",
    "\n",
    "'''\n",
    "Necessary GPT functions: \n",
    "g.adj(M) - ajdoint of the matrix given in the argument\n",
    "g.trace(M) - takes the spin trace of the object passed in\n",
    "g.slice(M,axis) - This returns a one dimensional object, the slice of the input along the given axis. Use this to do the sums over the spatial components of the correlator \n",
    "'''\n",
    "\n",
    "#This function calculates the pion effective mass given some bare quark mass. We will use this to see for which bare quark mass the pion mass vanishes. \n",
    "def effective_mass_pion_single_config(m):\n",
    "    #fermion operator with a variable mass\n",
    "    w = g.qcd.fermion.wilson_clover(U,mass=m, csw_r=0.0,csw_t=0.0, nu=1.0, xi_0=1.0,\n",
    "                                   isAnisotropic=False,\n",
    "                                   boundary_phases=[1,1,1,-1])\n",
    "\n",
    "    #inversion with cg\n",
    "    invD = w.propagator(inv.preconditioned(pc.eo1_ne(),cg))\n",
    "    dst = g(invD * src)\n",
    "\n",
    "    #define the correlation function in this line. no loops necessary, g.slice does the spatial sum for you. \n",
    "    Ct = #Correlation function definition here \n",
    "\n",
    "    #calculate the effective mass in this line (you will need a for loop) \n",
    "    eff_mass = #effective mass defintion here\n",
    "\n",
    "    #return the effective mass\n",
    "    return eff_mass \n",
    "\n",
    "#this bit runs the inversions and calculations for the masses below. Feel free to edit these. \n",
    "emp = {}\n",
    "for m in [-0.6, -0.7, -0.8, -0.9, -1.0, -1.1, -1.2]:\n",
    "    emp[m] = effective_mass_pion_single_config(m)"
   ]
  },
  {
   "cell_type": "markdown",
   "id": "7e97f920-3f1c-4dd3-81f9-298698382f12",
   "metadata": {},
   "source": [
    "## Exercise 2.2: effective pion mass\n",
    "\n",
    "Plot the effective mass of the pion for one of the bare quark masses you generated data for. \n",
    "\n",
    "Find a plateau region to extract a single value of the pion mass from, average the value of the effective mass over these timeslices, and store the pion masses in an array or list. \n",
    "\n"
   ]
  },
  {
   "cell_type": "code",
   "execution_count": 3,
   "id": "f8f87e80-8075-4773-bef7-2816f56df9b1",
   "metadata": {},
   "outputs": [],
   "source": [
    "#plot the effective mass of one of your pions, decide a good region to average over some number of timeslices. "
   ]
  },
  {
   "cell_type": "code",
   "execution_count": 2,
   "id": "db058ddd-14b4-40df-bca8-328fe14a019c",
   "metadata": {},
   "outputs": [
    {
     "ename": "SyntaxError",
     "evalue": "incomplete input (2631935310.py, line 6)",
     "output_type": "error",
     "traceback": [
      "  \u001b[36mCell\u001b[39m\u001b[36m \u001b[39m\u001b[32mIn[2]\u001b[39m\u001b[32m, line 6\u001b[39m\n\u001b[31m    \u001b[39m\u001b[31mpion_masses.append(#your code here - average over as many timeslices as you want)\u001b[39m\n                                                                                     ^\n\u001b[31mSyntaxError\u001b[39m\u001b[31m:\u001b[39m incomplete input\n"
     ]
    }
   ],
   "source": [
    "quark_masses = []\n",
    "pion_masses = []\n",
    "\n",
    "for m in emp:\n",
    "    quark_masses.append(m)\n",
    "    pion_masses.append(#your code here - average over as many timeslices as you want)"
   ]
  },
  {
   "cell_type": "markdown",
   "id": "38fd5bb0-2d02-4233-97db-273b5a7120c5",
   "metadata": {},
   "source": [
    "## Exercise 2.3: Critical mass\n",
    "Plot the pion masses you calculated as a function of bare quark mass. Estimate the bare quark mass that you would need in order to see massless pions. "
   ]
  },
  {
   "cell_type": "code",
   "execution_count": 11,
   "id": "c5934039-3517-431e-8c8b-ecd0da5fa8d9",
   "metadata": {},
   "outputs": [
    {
     "data": {
      "text/plain": [
       "[<matplotlib.lines.Line2D at 0x7f7e3c508e30>]"
      ]
     },
     "execution_count": 11,
     "metadata": {},
     "output_type": "execute_result"
    },
    {
     "data": {
      "image/png": "[encoded data removed]",
      "text/plain": [
       "<Figure size 640x480 with 1 Axes>"
      ]
     },
     "metadata": {},
     "output_type": "display_data"
    }
   ],
   "source": [
    "fig2, ax2 = plt.subplots()\n",
    "ax2.set_ylim(0,2.0)\n",
    "ax2.set_xlim(-1.5,-0.4)\n",
    "ax2.set_xlabel(\"quark mass\")\n",
    "ax2.set_ylabel(\"pion mass\")\n",
    "ax2.plot(quark_masses, pion_masses, marker='+', ls='',c='red',label=\"m_pi(m)\")"
   ]
  },
  {
   "cell_type": "code",
   "execution_count": null,
   "id": "70e9d9a0-bf55-4be0-a272-c56ba0adda54",
   "metadata": {},
   "outputs": [],
   "source": []
  }
 ],
 "metadata": {
  "kernelspec": {
   "display_name": "Python 3 (pkgs-cu)",
   "language": "python",
   "name": "python3"
  },
  "language_info": {
   "codemirror_mode": {
    "name": "ipython",
    "version": 3
   },
   "file_extension": ".py",
   "mimetype": "text/x-python",
   "name": "python",
   "nbconvert_exporter": "python",
   "pygments_lexer": "ipython3",
   "version": "3.12.11"
  }
 },
 "nbformat": 4,
 "nbformat_minor": 5
}
