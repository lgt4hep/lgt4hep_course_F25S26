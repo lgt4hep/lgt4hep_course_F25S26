{
 "cells": [
  {
   "cell_type": "markdown",
   "id": "3c8d97f7-2ee8-43a6-b536-f5b93d36d0c0",
   "metadata": {},
   "source": [
    "# LGT Unit 3 day 13 exercises"
   ]
  },
  {
   "cell_type": "code",
   "execution_count": 16,
   "id": "e7fbe3d8-b950-4cf5-b0eb-9e811efe2b4f",
   "metadata": {
    "scrolled": true
   },
   "outputs": [],
   "source": [
    "import gpt as g\n",
    "import numpy as np\n",
    "import matplotlib.pyplot as plt"
   ]
  },
  {
   "cell_type": "code",
   "execution_count": 17,
   "id": "7ce5d90a-0c09-45bd-b074-d134faf1244e",
   "metadata": {},
   "outputs": [],
   "source": [
    "grid = g.grid([8,8,8,16], g.double) #initialize a double precision grid"
   ]
  },
  {
   "cell_type": "markdown",
   "id": "d3d4a17e-1861-46ad-9d63-6d36685fed4b",
   "metadata": {},
   "source": [
    "## 1. Wilson Dirac operator spectra\n",
    "\n",
    "In this section we will examine the spectra of a non-GW fermion operator, the Wilson Dirac operator, which explicitly breaks chiral symmetry. We will look at the eigenvalues of this operator in the complex plane, and compare these eigenvalues to the Ginsparg-Wilson circle."
   ]
  },
  {
   "cell_type": "code",
   "execution_count": 18,
   "id": "d73b6667-8c98-42b0-bf40-5c5bab137f92",
   "metadata": {},
   "outputs": [],
   "source": [
    "'''\n",
    "U_f is set to unit links everywhere, this allows us to simulate the free theory. Use this U_f gauge field for the exercises\n",
    "first, then if you want you can use the quenched configuration generation cell to generate a configuration to use in the interacting case. \n",
    "'''\n",
    "U_f = g.qcd.gauge.unit(grid)\n",
    "start = g.vspincolor(grid)"
   ]
  },
  {
   "cell_type": "code",
   "execution_count": 32,
   "id": "597af993-d886-48da-9322-a39125eb911e",
   "metadata": {},
   "outputs": [
    {
     "name": "stdout",
     "output_type": "stream",
     "text": [
      "GPT :   17833.512283 s : Initializing gpt.random(fkbrfr,vectorized_ranlux24_24_64) took 2.98023e-05 s\n",
      "GPT :   17869.898001 s : SU(2)-subgroup heatbath 100 has P = 0.4952442381117079\n"
     ]
    }
   ],
   "source": [
    "'''\n",
    "Only run this cell to generate a configuration to use in the optional exercises. \n",
    "'''\n",
    "\n",
    "# Do not modify anything in this cell.\n",
    "Ls = 8\n",
    "Lt = 16\n",
    "beta = 5.5\n",
    "L = [Ls,Ls,Ls,Lt]\n",
    "grid = g.grid(L, g.single)\n",
    "grid_eo = g.grid(L, g.single, g.redblack)\n",
    "\n",
    "rng = g.random(\"fkbrfr\", \"vectorized_ranlux24_24_64\") #change this?\n",
    "U = g.qcd.gauge.unit(grid)\n",
    "Nd = len(U)\n",
    "\n",
    "# red/black mask\n",
    "mask_rb = g.complex(grid_eo)\n",
    "mask_rb[:] = 1\n",
    "# full mask\n",
    "mask = g.complex(grid)\n",
    "\n",
    "# simple plaquette action\n",
    "def staple(U, mu):\n",
    "    st = g.lattice(U[0])\n",
    "    st[:] = 0\n",
    "    Nd = len(U)\n",
    "    for nu in range(Nd):\n",
    "        if mu != nu:\n",
    "            st += g.qcd.gauge.staple(U, mu, nu) / U[0].otype.Nc\n",
    "    return st\n",
    "\n",
    "g.default.push_verbose(\"su2_heat_bath\", False)\n",
    "markov = g.algorithms.markov.su2_heat_bath(rng)\n",
    "U = g.qcd.gauge.unit(grid)\n",
    "plaquette_heatbath = []\n",
    "for it in range(101):\n",
    "    plaq = g.qcd.gauge.plaquette(U)\n",
    "    plaquette_heatbath.append(plaq)\n",
    "    if it % 100 == 0 and it != 0:\n",
    "        g.message(f\"SU(2)-subgroup heatbath {it} has P = {plaq}\")\n",
    "        Uc = g.copy(U)\n",
    "    for cb in [g.even, g.odd]:\n",
    "        mask[:] = 0\n",
    "        mask_rb.checkerboard(cb)\n",
    "        g.set_checkerboard(mask, mask_rb)\n",
    "        \n",
    "        for mu in range(Nd):\n",
    "                    st = g.eval(beta * staple(U, mu))\n",
    "                    markov(U[mu], st, mask)"
   ]
  },
  {
   "cell_type": "code",
   "execution_count": 19,
   "id": "565efd2f-c370-4b6d-a833-ec76554a71f7",
   "metadata": {},
   "outputs": [],
   "source": [
    "#do not modify anyhting in this cell\n",
    "'''\n",
    "This function defines the Wilson Dirac operator, then uses the Arnoldi algorithm to calculate the eigenvalues and eigenvectors.\n",
    "it only returns the eigenvalues, because that is all we will be using in these exercises. \n",
    "'''\n",
    "def compute_evs_Wilson(U,m):\n",
    "\n",
    "    w = g.qcd.fermion.wilson_clover(U, mass=m, csw_r=0.0, csw_t=0.0, nu=1.0, xi_0=1.0, isAnisotropic=False,\n",
    "                                   boundary_phases=[1,1,1,-1])\n",
    "\n",
    "    start = g.vspincolor(w.F_grid)\n",
    "    g.default.set_verbose(\"arnoldi\", False)\n",
    "    a = g.algorithms.eigen.arnoldi(Nmin=700, Nmax=1400, Nstep=100, Nstop=500,resid=1e-6,implicit_restart=True)\n",
    "\n",
    "    evec, evals = a(w,start)\n",
    "    return evals"
   ]
  },
  {
   "cell_type": "code",
   "execution_count": 23,
   "id": "77a211ca-cc4e-459d-9ea9-5d8475daf544",
   "metadata": {},
   "outputs": [],
   "source": [
    "#do not modify anything in this cell\n",
    "'''\n",
    "This line runs the above code - we input the gauge field we want to use, U_f for the free case, and the bare mass of the Wilson Dirac operator.\n",
    "We are interested in zero bare quark mass, so we put in a small number to get as close as we can. \n",
    "\n",
    "Note: This cell takes about a minute to run. \n",
    "'''\n",
    "\n",
    "ev_Wilson_free = compute_evs_Wilson(U_f,-0.01)\n",
    "#ev_Wilson_int = compute_evs_Wilson(U_q, -0.01)"
   ]
  },
  {
   "cell_type": "markdown",
   "id": "22ccdd57-bd4b-4047-a191-6fee77c7759c",
   "metadata": {},
   "source": [
    "### Exercise 1.1: Wilson spectra plot\n",
    "\n",
    "Plot the eigenvalues we just generated in the complex plane, along with the GW circle. Comment on the structure of the eigenvalues in relation to the GW circle. \n",
    "\n",
    "recall the GW circle has the form\n",
    "$$\n",
    "    \\left(x - \\frac{1}{a}\\right)^2 + y^2 = \\frac{1}{a^2}\n",
    "$$\n",
    "\n",
    "where we will set the lattice spacing $a = 1$"
   ]
  },
  {
   "cell_type": "code",
   "execution_count": 38,
   "id": "c7c001c5-2098-4db8-9e06-b0b084b72dd8",
   "metadata": {},
   "outputs": [],
   "source": [
    "#Modify this cell\n",
    "'''\n",
    "Plot the eigenvalues and the GW circle (The GW circle is simply a circle of radius 1 centered at (0,1). \n",
    "''';"
   ]
  },
  {
   "cell_type": "markdown",
   "id": "348cf380-40de-474f-a971-5de89b629f74",
   "metadata": {},
   "source": [
    "### Exercise 1.2 (optional): Interacting Wilson spectra\n",
    "\n",
    "Generate a quenched config using the cell at the top of the notebook, and calculate the eigenvectors and eigenvalues in the interacting case. Plot the eigenvalues and GW circle on the same plot. "
   ]
  },
  {
   "cell_type": "code",
   "execution_count": 39,
   "id": "ed10d361-c79f-400d-acf1-5f99dab47f08",
   "metadata": {},
   "outputs": [],
   "source": [
    "#modify this cell (if you want)\n",
    "'''\n",
    "Plot the eigenvalues in the interacting case (this is optional)\n",
    "''';"
   ]
  },
  {
   "cell_type": "markdown",
   "id": "f3db13e6-da97-4d32-a1c7-a9cba44b88e8",
   "metadata": {},
   "source": [
    "### Overlap fermions\n",
    "\n",
    "In this part we will introduce the first example of a Ginsparg-Wilson fermion formulation in overlap fermions, which is effectively a chiral projection of a non-GW fermion operator."
   ]
  },
  {
   "cell_type": "markdown",
   "id": "f8fedb05-4ef1-4fb1-bc2e-4180047d0ee7",
   "metadata": {},
   "source": [
    "For this part of the exercise, we are going to calculate the eigenvalues and eigenvectors of the overlap operator:\n",
    "$$\n",
    "D_{\\text{ov}} = \\frac{1}{a}(1 + \\gamma_5\\text{sign}[H]), \\quad H = \\gamma_5A\n",
    "$$\n",
    "for some general Hermitian kernel operator $H$. \n",
    "\n",
    "We will use the Wilson Dirac operator as $A$, thus $H = \\gamma_5D_w(m = -M_5)$, where we usually take $M_5 = -1.8$. This 'mass' parameter does not correspond to the mass of the fermion this operator describes, we are still working with massless fermions for any $M_5$."
   ]
  },
  {
   "cell_type": "markdown",
   "id": "697049cb-4998-454b-a823-7d9dadf4e4a1",
   "metadata": {},
   "source": [
    "### Exercise 2.1: (Analytic)\n",
    "\n",
    "Show the general form of the overlap operator is a solution to the Ginsparg-Wilson equation,\n",
    "$$\n",
    "D\\gamma_5 + \\gamma_5D = aD\\gamma_5D\n",
    "$$"
   ]
  },
  {
   "cell_type": "markdown",
   "id": "70eef923-f05a-44ef-b6d8-48f5312cff9e",
   "metadata": {},
   "source": [
    "The overlap operator is gauge invariant and chirally symmetric, and its free of doublers because the kernel we are using is free of doublers, the Wilson Dirac operator. Any doubler free lattice Dirac operator can be used as the kernel, and the overlap operator will show these same properties. In this sense we can think of the overlap operator as a projection of a non-chiral doubler free lattice operator onto a chirally symmetric Dirac operator. \n",
    "\n",
    "Now we want to look at the spectrum of the overlap operator with the Wilson Dirac operator as its kernel. The tricky part is the evaluation of the Sign function, which acts by replacing all of the operator's eigenvalues by their sign. As a first step, we rewrite the sign function as \n",
    "$$\n",
    "\\text{Sign[H]} = \\frac{H}{|H|} = \\frac{H}{\\sqrt{H^2}}\n",
    "$$\n",
    "The main issue is how to apply the $\\sqrt{H^2}$ term to a given vector. We are first interested in looking at the spectrum of $H^2$. We take the common choice of $M_5 = -1.8$."
   ]
  },
  {
   "cell_type": "code",
   "execution_count": 25,
   "id": "80e34fb7-672b-4915-9e4d-6b3ae7d2879d",
   "metadata": {},
   "outputs": [
    {
     "name": "stdout",
     "output_type": "stream",
     "text": [
      "GPT :   16417.609564 s : Initializing gpt.random(evecs,vectorized_ranlux24_389_64) took 0.00519133 s\n"
     ]
    }
   ],
   "source": [
    "# Do not modify anything in this cell\n",
    "'''\n",
    "This code defines the Wilson operator with m = -M_5, and then defines the numerical implementation of sign(H). We also calculate the eigenvalues \n",
    "and eigenvectors of H^2 to demonstrate a key step in the implementation of fermion operators with very small eigenvalues. \n",
    "'''\n",
    "\n",
    "w = g.qcd.fermion.wilson_clover(U_f, mass=-1.8, csw_r=0.0, csw_t=0.0, nu=1.0, xi_0=1.0,\n",
    "                                isAnisotropic=False,boundary_phases=[1,1,1,-1])\n",
    "\n",
    "#initialize random quark fields for the operator to act on\n",
    "start = g.vspincolor(w.F_grid)\n",
    "rng = g.random(\"evecs\")\n",
    "rng.normal(start)\n",
    "\n",
    "#function that defines H^2\n",
    "def H2(dst,src):\n",
    "    dst @= g.gamma[5] * w * g.gamma[5] * w * src\n",
    "\n",
    "#We use the arnoldi algorithm on the H^2 operator.\n",
    "g.default.set_verbose(\"arnoldi\",False)\n",
    "a = g.algorithms.eigen.arnoldi(Nmin=700, Nmax=1400, Nstep=100, Nstop=500, resid=1e-6, implicit_restart=True)\n",
    "\n",
    "evecH2, evalsH2 = a(H2,start)"
   ]
  },
  {
   "cell_type": "code",
   "execution_count": 34,
   "id": "c612d550-8883-419a-8e1c-5341e830d9f4",
   "metadata": {},
   "outputs": [
    {
     "data": {
      "text/plain": [
       "Text(0, 0.5, 'eigenvalue of H^2')"
      ]
     },
     "execution_count": 34,
     "metadata": {},
     "output_type": "execute_result"
    },
    {
     "data": {
      "image/png": "[encoded data removed]",
      "text/plain": [
       "<Figure size 640x480 with 1 Axes>"
      ]
     },
     "metadata": {},
     "output_type": "display_data"
    }
   ],
   "source": [
    "fig2,ax2 = plt.subplots()\n",
    "\n",
    "ax2.plot(list(range(len(evalsH2))),sorted([e.real for e in evalsH2]))\n",
    "ax2.set_xlim(0,200)\n",
    "ax2.set_ylim(0,20)\n",
    "ax2.set_xlabel(\"Eigenvalue number\")\n",
    "ax2.set_ylabel(\"eigenvalue of H^2\")"
   ]
  },
  {
   "cell_type": "markdown",
   "id": "3c66d610-aaeb-4aa1-9270-da1c1ceae646",
   "metadata": {},
   "source": [
    "We clearly have some small eigenvalues. A common thing to do when evaluating the overlap operator is to define a deflated operator\n",
    "$$\n",
    "H^2_{\\text{def}} = H^2 - \\sum_n \\lambda_n |n\\rangle\\langle n|\n",
    "$$\n",
    "with eigenvalues $\\lambda_n$ and eigenvectors $|n\\rangle$, and the sum running over the smallest eigenvalues up to a given threshold. \n",
    "\n",
    "We combine this small eigenmode subtraction with a polynomial approximation using Chebyshev polynomials. Chebyshev polynomials are defined in the interval $[-1,1]$, so we map the domain of eigenvalues into the domain of the Chebyshev polynomials. Then we expand the function in a truncated series,\n",
    "$$\n",
    " r(x) \\approx \\sum_{n=0}^{N-1}c_nT_n(x)\n",
    "$$\n",
    "in our case, for the inverse square root function, for $\\lambda \\in [\\alpha^2,\\beta^2]$\n",
    "$$\n",
    "r(x) = \\frac{1}{\\sqrt{\\lambda(x)}} = \\left(\\frac{1}{2}(\\beta^2 + \\alpha^2) + \\frac{x}{2}(\\beta^2 - \\alpha^2)\\right)^{-1/2}\n",
    "$$\n",
    "The coefficients are defined by\n",
    "$$\n",
    "c_n = \\frac{\\pi}{N}\\sum_{k=1}^Nr(x_k)T_n(x_k),\\quad x_k = \\cos\\left(\\left(k-\\frac{1}{2}\\right)\\frac{\\pi}{N}\\right)\n",
    "$$\n",
    "and the approximation of the sign function comes from multiplication by $H$\n",
    "$$\n",
    "\\text{sign}[H] = \\frac{H}{\\sqrt{H^2}} = H\\sum_{n=0}^{N-1}c_nT_n(X) + \\mathcal{O}(\\text{exp}(-2N|\\alpha/\\beta|))\n",
    "$$\n",
    "where \n",
    "$$\n",
    " X = \\frac{2H^2 - (\\beta^2 + \\alpha^2)}{\\beta^2 - \\alpha^2}\n",
    "$$\n",
    "\n",
    "All of this is conviniently implemented in GPT, and we will use that here."
   ]
  },
  {
   "cell_type": "code",
   "execution_count": 36,
   "id": "9fbec9ad-cfaf-443b-b185-fcb148f0b281",
   "metadata": {},
   "outputs": [],
   "source": [
    "#do not modify this cell\n",
    "\n",
    "#with this, c(x) will approximate the function (x)^(-1/2) \n",
    "c = g.algorithms.polynomial.chebyshev(low=0.5,high=40,order=30,func=lambda x: x**-0.5)\n",
    "\n",
    "#sorts the eigenvalues so we can subtract the smallest ones\n",
    "idx = evalsH2.real.argsort()\n",
    "\n",
    "#this function is our approximate inverse square root function in the overlap operator\n",
    "def Hm0p5(dst,src):\n",
    "    deflated_src = g.copy(src)\n",
    "    dst[:] = 0\n",
    "    for i in range(20):\n",
    "        v = g.inner_product(evecH2[idx[i]],deflated_src)\n",
    "        dst += evalsH2[idx[i]]**-0.5 * evecH2[idx[i]] * v\n",
    "        deflated_src -= evecH2[idx[i]] * v\n",
    "    dst += c(H2) * deflated_src #the return is the chebyshev approximation acting on the deflated field\n",
    "\n",
    "'''\n",
    "The form of these functions, F(dst,src) effectively acts the function on the 'src' argument, and returns\n",
    "it to the \"dst\" argument. So Hm0p5(dst,src) acts the sign function on src, and puts it in dst. src and dst will be spincolor fields\n",
    "''';"
   ]
  },
  {
   "cell_type": "markdown",
   "id": "8cad4d62-2a37-4380-8bf0-18acb9dbd81f",
   "metadata": {},
   "source": [
    "### Exercise 2.2: definition of the overlap operator\n",
    "\n",
    "Define the overlap operator in the cell below using the following form in terms of the Wilson Dirac operator $A$.\n",
    "\n",
    "$$\n",
    "D_{\\text{ov}} = \\frac{1}{a}\\left(1 + \\gamma_5H(H^2)^{-1/2} \\right), \\quad H = \\gamma_5A\n",
    "$$\n",
    "\n",
    "$$\n",
    "D_{\\text{ov}} = \\frac{1}{a}\\left(1 + A(\\gamma_5A\\gamma_5A)^{-1/2} \\right)\n",
    "$$\n",
    "\n",
    "The Hm0p5 function above approximates the quantity in the inverse square root, so apply that function first, and complete the expression in the function below. "
   ]
  },
  {
   "cell_type": "code",
   "execution_count": 29,
   "id": "6a4b7eb0-fc48-4072-9dcc-858edeb4a9c7",
   "metadata": {},
   "outputs": [],
   "source": [
    "#modify this cell\n",
    "'''\n",
    "Here you will define the overlap operator, using this Hm0p5 function defined above. Note 'A' in the above expression is the Wilson Dirac operator\n",
    "which we defined as the variable 'w'. src and dst are fermion fields, defined as spincolor vectors on every site. Note that the 'w' variable MUST act\n",
    "on one of these vectors when writing the Dirac operator as a function. \n",
    "'''\n",
    "\n",
    "def Overlap(dst,src):\n",
    "    Hm0p5(dst, src)\n",
    "    dst @= w * dst + src"
   ]
  },
  {
   "cell_type": "code",
   "execution_count": 30,
   "id": "32cb5e0b-6146-488a-990d-cd94011aec8c",
   "metadata": {},
   "outputs": [],
   "source": [
    "#do not modify anything in this cell\n",
    "'''\n",
    "This code calculates the eigenvectors and eigenvalues of the overlap operator we just defined using the Arnoldi algorithm.\n",
    "'''\n",
    "\n",
    "g.default.set_verbose(\"arnoldi\", False)\n",
    "a = g.algorithms.eigen.arnoldi(Nmin=300, Nmax=1400, Nstep=100, Nstop=200, resid=1e-6, implicit_restart=True)\n",
    "\n",
    "evecOv, evalsOv = a(Overlap, start)"
   ]
  },
  {
   "cell_type": "markdown",
   "id": "3a292934-0db5-450e-9d96-dc2fc923c467",
   "metadata": {},
   "source": [
    "### Exercise 2.3\n",
    "\n",
    "Plot the eigenvalues and the GW cicle in the complex plane again. Note the difference between this graph and what you plotted for the Wilson Dirac operator. "
   ]
  },
  {
   "cell_type": "code",
   "execution_count": 40,
   "id": "47b7852f-6625-4151-8f6e-264c561e4e5d",
   "metadata": {},
   "outputs": [],
   "source": [
    "#Modify this cell\n",
    "'''\n",
    "Plot the GW circle and the overlap operator eigenvalues in the complex plane\n",
    "''';\n"
   ]
  },
  {
   "cell_type": "markdown",
   "id": "473653de-b056-4fe0-8811-fa32aa5d9407",
   "metadata": {},
   "source": [
    "### Exercise 2.4 (optional)\n",
    "\n",
    "Do the same analysis but use the quenched configuration as the gauge background. "
   ]
  },
  {
   "cell_type": "code",
   "execution_count": 41,
   "id": "f0b96348-a1b2-455f-9135-a25c6d586913",
   "metadata": {},
   "outputs": [],
   "source": [
    "#Modify this cell (if you want)\n",
    "'''\n",
    "Do the same as exercise 2.3 but in the interacting case. \n",
    "''';"
   ]
  },
  {
   "cell_type": "code",
   "execution_count": null,
   "id": "ebec1117-a1a0-49b5-8d34-13beb74e800e",
   "metadata": {},
   "outputs": [],
   "source": []
  }
 ],
 "metadata": {
  "kernelspec": {
   "display_name": "Python 3 (pkgs-cu)",
   "language": "python",
   "name": "python3"
  },
  "language_info": {
   "codemirror_mode": {
    "name": "ipython",
    "version": 3
   },
   "file_extension": ".py",
   "mimetype": "text/x-python",
   "name": "python",
   "nbconvert_exporter": "python",
   "pygments_lexer": "ipython3",
   "version": "3.12.11"
  }
 },
 "nbformat": 4,
 "nbformat_minor": 5
}
